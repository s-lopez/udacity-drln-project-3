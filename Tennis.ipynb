{
 "cells": [
  {
   "cell_type": "markdown",
   "metadata": {},
   "source": [
    "# Collaboration and Competition\n",
    "\n",
    "---\n",
    "\n",
    "In this notebook, you will learn how to use the Unity ML-Agents environment for the third project of the [Deep Reinforcement Learning Nanodegree](https://www.udacity.com/course/deep-reinforcement-learning-nanodegree--nd893) program.\n",
    "\n",
    "### 1. Start the Environment\n",
    "\n",
    "We begin by importing the necessary packages.  If the code cell below returns an error, please revisit the project instructions to double-check that you have installed [Unity ML-Agents](https://github.com/Unity-Technologies/ml-agents/blob/master/docs/Installation.md) and [NumPy](http://www.numpy.org/)."
   ]
  },
  {
   "cell_type": "code",
   "execution_count": 1,
   "metadata": {},
   "outputs": [],
   "source": [
    "from unityagents import UnityEnvironment\n",
    "import numpy as np"
   ]
  },
  {
   "cell_type": "code",
   "execution_count": 2,
   "metadata": {},
   "outputs": [
    {
     "name": "stderr",
     "output_type": "stream",
     "text": [
      "INFO:unityagents:\n",
      "'Academy' started successfully!\n",
      "Unity Academy name: Academy\n",
      "        Number of Brains: 1\n",
      "        Number of External Brains : 1\n",
      "        Lesson number : 0\n",
      "        Reset Parameters :\n",
      "\t\t\n",
      "Unity brain name: TennisBrain\n",
      "        Number of Visual Observations (per agent): 0\n",
      "        Vector Observation space type: continuous\n",
      "        Vector Observation space size (per agent): 8\n",
      "        Number of stacked Vector Observation: 3\n",
      "        Vector Action space type: continuous\n",
      "        Vector Action space size (per agent): 2\n",
      "        Vector Action descriptions: , \n"
     ]
    }
   ],
   "source": [
    "PATH_TO_ENV = \"Tennis_Linux/Tennis.x86\"\n",
    "BRAIN = \"TennisBrain\"\n",
    "TRAINING = True\n",
    "\n",
    "env = UnityEnvironment(file_name=PATH_TO_ENV, no_graphics=TRAINING)\n",
    "\n",
    "#ACTION_SIZE = env.brains[BRAIN].vector_action_space_size\n",
    "#STATE_SIZE = env.brains[BRAIN].vector_observation_space_size ### ???"
   ]
  },
  {
   "cell_type": "code",
   "execution_count": 3,
   "metadata": {},
   "outputs": [
    {
     "data": {
      "text/plain": [
       "2"
      ]
     },
     "execution_count": 3,
     "metadata": {},
     "output_type": "execute_result"
    }
   ],
   "source": [
    "env.brains[BRAIN].vector_action_space_size"
   ]
  },
  {
   "cell_type": "markdown",
   "metadata": {},
   "source": [
    "Environments contain **_brains_** which are responsible for deciding the actions of their associated agents. Here we check for the first brain available, and set it as the default brain we will be controlling from Python."
   ]
  },
  {
   "cell_type": "markdown",
   "metadata": {},
   "source": [
    "### 2. Examine the State and Action Spaces\n",
    "\n",
    "In this environment, two agents control rackets to bounce a ball over a net. If an agent hits the ball over the net, it receives a reward of +0.1.  If an agent lets a ball hit the ground or hits the ball out of bounds, it receives a reward of -0.01.  Thus, the goal of each agent is to keep the ball in play.\n",
    "\n",
    "The observation space consists of 8 variables corresponding to the position and velocity of the ball and racket. Two continuous actions are available, corresponding to movement toward (or away from) the net, and jumping. \n",
    "\n",
    "Run the code cell below to print some information about the environment."
   ]
  },
  {
   "cell_type": "code",
   "execution_count": 4,
   "metadata": {},
   "outputs": [
    {
     "name": "stdout",
     "output_type": "stream",
     "text": [
      "Number of agents: 2\n",
      "Size of each action: 2\n",
      "There are 2 agents. Each observes a state with length: 24\n",
      "The state for the first agent looks like: [ 0.          0.          0.          0.          0.          0.\n",
      "  0.          0.          0.          0.          0.          0.\n",
      "  0.          0.          0.          0.         -6.65278625 -1.5\n",
      " -0.          0.          6.83172083  6.         -0.          0.        ]\n"
     ]
    }
   ],
   "source": [
    "# reset the environment\n",
    "env_info = env.reset(train_mode=TRAINING)[BRAIN]\n",
    "\n",
    "# number of agents \n",
    "NUM_AGENTS = len(env_info.agents)\n",
    "print('Number of agents:', NUM_AGENTS)\n",
    "\n",
    "# size of each action\n",
    "ACTION_SIZE = env.brains[BRAIN].vector_action_space_size\n",
    "print('Size of each action:', ACTION_SIZE)\n",
    "\n",
    "# examine the state space \n",
    "states = env_info.vector_observations\n",
    "STATE_SIZE = states.shape[1]\n",
    "print('There are {} agents. Each observes a state with length: {}'.format(states.shape[0], STATE_SIZE))\n",
    "print('The state for the first agent looks like:', states[0])"
   ]
  },
  {
   "cell_type": "markdown",
   "metadata": {},
   "source": [
    "### 3. Take Random Actions in the Environment\n",
    "\n",
    "In the next code cell, you will learn how to use the Python API to control the agents and receive feedback from the environment.\n",
    "\n",
    "Once this cell is executed, you will watch the agents' performance, if they select actions at random with each time step.  A window should pop up that allows you to observe the agents.\n",
    "\n",
    "Of course, as part of the project, you'll have to change the code so that the agents are able to use their experiences to gradually choose better actions when interacting with the environment!"
   ]
  },
  {
   "cell_type": "markdown",
   "metadata": {},
   "source": [
    "# Convenience functions"
   ]
  },
  {
   "cell_type": "code",
   "execution_count": 5,
   "metadata": {},
   "outputs": [],
   "source": [
    "def act(env, actions, brain_name=BRAIN) -> tuple:\n",
    "    \"\"\"Sends actions to the environment env and observes the results.\n",
    "    Returns a tuple of rewards, next_states, dones (One per agent)\"\"\"\n",
    "    action_result = env.step(actions)[brain_name] # Act on the environment and observe the result\n",
    "    return (action_result.rewards,\n",
    "            action_result.vector_observations, # next states\n",
    "            action_result.local_done) # True if the episode ended\n",
    "    \n",
    "def reset(env, training=TRAINING, brain_name=BRAIN) -> np.ndarray:\n",
    "    \"\"\"Syntactic sugar for resetting the unity environment\"\"\"\n",
    "    return env.reset(train_mode=training)[brain_name].vector_observations"
   ]
  },
  {
   "cell_type": "markdown",
   "metadata": {},
   "source": [
    "# Prepare the training"
   ]
  },
  {
   "cell_type": "code",
   "execution_count": 6,
   "metadata": {},
   "outputs": [],
   "source": [
    "#from IPython.display import clear_output\n",
    "np.set_printoptions(precision=3, suppress=True)"
   ]
  },
  {
   "cell_type": "code",
   "execution_count": 7,
   "metadata": {},
   "outputs": [],
   "source": [
    "# Profiling (optional)\n",
    "import cProfile\n",
    "profiling = False # Set to True to profile execution time\n",
    "if profiling:\n",
    "    profile = cProfile.Profile()"
   ]
  },
  {
   "cell_type": "code",
   "execution_count": 8,
   "metadata": {},
   "outputs": [
    {
     "data": {
      "text/plain": [
       "<torch._C.Generator at 0x7f026c044910>"
      ]
     },
     "execution_count": 8,
     "metadata": {},
     "output_type": "execute_result"
    }
   ],
   "source": [
    "# Invite our agent & import utils\n",
    "from ddpg_agent import Agent\n",
    "from buffer import ReplayBuffer\n",
    "from ounoise import OUNoise\n",
    "import torch\n",
    "import random\n",
    "# Params\n",
    "SEED = random.randint(0, 1e6)\n",
    "BUFFER_SIZE = int(1e6)\n",
    "BATCH_SIZE = 256\n",
    "USE_CUDA = True\n",
    "\n",
    "# Initialize components\n",
    "random.seed(SEED)\n",
    "torch.manual_seed(SEED)"
   ]
  },
  {
   "cell_type": "code",
   "execution_count": 9,
   "metadata": {},
   "outputs": [],
   "source": [
    "def train(agents, env, num_episodes, log_freq, max_t=20000, profiling=False, profiler=None):        \n",
    "    score_hist = []\n",
    "    if profiling: \n",
    "        profile.enable()\n",
    "    \n",
    "    # Train\n",
    "    for i in range(num_episodes):\n",
    "        states = reset(env)\n",
    "        scores = np.zeros(NUM_AGENTS)\n",
    "        if i > 0:\n",
    "            ounoise.decay_step()\n",
    "            \n",
    "        for j in range(max_t): # Safer than while not np.any(dones)           \n",
    "            # Generate action noise\n",
    "            noise = ounoise.sample()\n",
    "            \n",
    "            # Each agent decides its action based on its own observation\n",
    "            assert len(noise) == len(states) & len(noise) == len(agents), 'size mismatch'\n",
    "            actions = np.vstack([agent.decide(np.expand_dims(state, 0)) + ns \n",
    "                               for agent, state, ns in zip(agents, states, noise)])\n",
    "                \n",
    "            # Send the actions to the environment\n",
    "            rewards, next_states, dones = act(env, actions)     \n",
    "            scores += rewards\n",
    "            \n",
    "            # Save to buffer\n",
    "            buffer.add(states, actions, rewards, next_states, dones)\n",
    "            \n",
    "            # Note: The agents' critics learn from the global state, not only the individual observations\n",
    "            # Update only after collecting enough experiences\n",
    "            if len(buffer) >= BATCH_SIZE:\n",
    "                for agent_number, agent in enumerate(agents):\n",
    "                    # Sample experiences separately for each agent's critic\n",
    "                    experiences = buffer.sample(BATCH_SIZE, NUM_AGENTS) #(states, actions, rewards, next_states, dones)\n",
    "                    \n",
    "                    # To update one agent, for each sampled experience we need...\n",
    "                    # ...All the actions that the (updated) target actors would take observing the resulting state\n",
    "                    assert len(experiences[3]) == len(agents), 'size mismatch' # experiences[3]: next_states\n",
    "                    next_actions = torch.cat([a.decide(s, use_target=True, as_tensor=True) \n",
    "                                              for a, s in zip(agents, experiences[3])], dim=1) \n",
    "\n",
    "                    # ...All the actions that the (updated) local actors would take observing the current state\n",
    "                    assert len(experiences[0]) == len(agents), 'size mismatch' # experiences[0]: states\n",
    "                    current_actions = torch.cat([a.decide(s, use_target=False, as_tensor=True) \n",
    "                                              for a, s in zip(agents, experiences[0])], dim=1) \n",
    "                    \n",
    "                    # Finally apply the update\n",
    "                    agent.learn(experiences, next_actions, current_actions, agent_number)\n",
    "                \n",
    "            # Step\n",
    "            states = next_states # roll over states to next time step\n",
    "            if np.any(dones): # exit loop if episode finished\n",
    "                break \n",
    "                \n",
    "        # Logging\n",
    "        score_hist.append(max(scores))\n",
    "        if (i % log_freq == 0) and (i > 0):\n",
    "            print(f'Avg. score episodes {i-log_freq}-{i}: {np.mean(score_hist[-log_freq:])}')\n",
    "        \n",
    "        if np.mean(score_hist[-100:]) >= .5:\n",
    "            print(f'Solved in {i} steps!')\n",
    "            break\n",
    "\n",
    "    if profiling: \n",
    "        profile.disable()\n",
    "        \n",
    "    return np.array(score_hist)"
   ]
  },
  {
   "cell_type": "code",
   "execution_count": 10,
   "metadata": {},
   "outputs": [
    {
     "name": "stdout",
     "output_type": "stream",
     "text": [
      "Avg. score episodes 0-3: 0.033333333830038704\n",
      "Avg. score episodes 3-6: 0.0\n",
      "Avg. score episodes 6-9: 0.0\n",
      "Avg. score episodes 9-12: 0.0\n",
      "Avg. score episodes 12-15: 0.0\n",
      "Avg. score episodes 15-18: 0.0\n",
      "Avg. score episodes 18-21: 0.0\n",
      "Avg. score episodes 21-24: 0.0\n",
      "Avg. score episodes 24-27: 0.0\n",
      "CPU times: user 6.75 s, sys: 584 ms, total: 7.33 s\n",
      "Wall time: 7.85 s\n"
     ]
    }
   ],
   "source": [
    "%%time\n",
    "buffer = ReplayBuffer(BUFFER_SIZE, USE_CUDA)\n",
    "ounoise = OUNoise(NUM_AGENTS, mu=.0, theta=1, sigma=.15, decay_rate=.95)\n",
    "agents = [Agent(STATE_SIZE, ACTION_SIZE, NUM_AGENTS, USE_CUDA) for agent in ('Alice', 'Bob')]\n",
    "\n",
    "score_hist = train(agents, env, num_episodes=30, log_freq=3)"
   ]
  },
  {
   "cell_type": "code",
   "execution_count": 11,
   "metadata": {},
   "outputs": [],
   "source": [
    "#### Old viz\n",
    "#for i in range(1, 20):                                      # play game for 5 episodes\n",
    "#    env_info = env.reset(train_mode=False)[BRAIN]     # reset the environment    \n",
    "#    states = env_info.vector_observations                  # get the current state (for each agent)\n",
    "#    scores = np.zeros(num_agents)                          # initialize the score (for each agent)\n",
    "#    while True:\n",
    "#        actions = np.random.randn(num_agents, action_size) # select an action (for each agent)\n",
    "#        actions = np.clip(actions, -1, 1)                  # all actions between -1 and 1\n",
    "#        env_info = env.step(actions)[BRAIN]           # send all actions to tne environment\n",
    "#        next_states = env_info.vector_observations         # get next state (for each agent)\n",
    "#        rewards = env_info.rewards                         # get reward (for each agent)\n",
    "#        dones = env_info.local_done                        # see if episode finished\n",
    "#        scores += env_info.rewards                         # update the score (for each agent)\n",
    "#        states = next_states                               # roll over states to next time step\n",
    "#        if np.any(dones):                                  # exit loop if episode finished\n",
    "#            break\n",
    "#    print('Score (max over agents) from episode {}: {}'.format(i, np.max(scores)))"
   ]
  },
  {
   "cell_type": "markdown",
   "metadata": {},
   "source": [
    "When finished, you can close the environment."
   ]
  },
  {
   "cell_type": "code",
   "execution_count": 12,
   "metadata": {},
   "outputs": [],
   "source": [
    "env.close()"
   ]
  },
  {
   "cell_type": "markdown",
   "metadata": {},
   "source": [
    "# Plotting + visualizing"
   ]
  },
  {
   "cell_type": "code",
   "execution_count": 13,
   "metadata": {},
   "outputs": [],
   "source": [
    "from matplotlib import pyplot as plt\n",
    "#import seaborn as sns"
   ]
  },
  {
   "cell_type": "code",
   "execution_count": 14,
   "metadata": {},
   "outputs": [],
   "source": [
    "def moving_average(signal:np.ndarray , period: int):\n",
    "    buffer = [np.nan] * period\n",
    "    for i in range(period,len(signal)):\n",
    "        buffer.append(signal[i-period:i].mean())\n",
    "    return np.array(buffer)\n",
    "\n",
    "#def moving_std(signal:np.ndarray , period: int):\n",
    "#    buffer = [np.nan] * period\n",
    "#    for i in range(period,len(signal)):\n",
    "#        buffer.append(signal[i-period:i].std())\n",
    "#    return np.array(buffer)"
   ]
  },
  {
   "cell_type": "code",
   "execution_count": 15,
   "metadata": {},
   "outputs": [
    {
     "data": {
      "text/plain": [
       "(0, 300)"
      ]
     },
     "execution_count": 15,
     "metadata": {},
     "output_type": "execute_result"
    },
    {
     "data": {
      "image/png": "[encoded data removed]",
      "text/plain": [
       "<Figure size 576x360 with 1 Axes>"
      ]
     },
     "metadata": {
      "needs_background": "light"
     },
     "output_type": "display_data"
    }
   ],
   "source": [
    "length = 5\n",
    "avg_scores = moving_average(score_hist, length)\n",
    "plt.figure(figsize=(8,5))\n",
    "plt.plot(avg_scores, label='avg_scores')\n",
    "#plt.hlines(30, xmin=0, xmax=300, colors='r', label='solved')\n",
    "plt.grid()\n",
    "plt.xlabel('Episode')\n",
    "plt.ylabel('Avg. score')\n",
    "plt.title(f'Avg. score over {length} episodes')\n",
    "plt.legend(loc='lower right')\n",
    "plt.xlim((0, 300))"
   ]
  },
  {
   "cell_type": "markdown",
   "metadata": {},
   "source": [
    "# Save models"
   ]
  },
  {
   "cell_type": "code",
   "execution_count": 16,
   "metadata": {},
   "outputs": [],
   "source": [
    "from datetime import datetime\n",
    "def save_agents(agents, score_hist, file_name=None, avg_scores=None):\n",
    "    \"\"\"Saves the agents' scores and the underlying pytorch model\"\"\"\n",
    "    checkpoint = {'score_hist': score_hist}\n",
    "    \n",
    "    for name, agent in zip(('Alice', 'Bob'), agents):\n",
    "        checkpoint[f'{name}_actor_state_dict'] = agent.actor_local.state_dict()\n",
    "        checkpoint[f'{name}_critic_state_dict'] = agent.critic_local.state_dict()\n",
    "        \n",
    "    if not file_name:\n",
    "        # Standard name: date-episodes-score\n",
    "        file_name = f'{datetime.strftime(datetime.now(),\"%y-%m-%d_%H.%M\")}-{len(avg_scores)}-{round(avg_scores[-1],1)}'\n",
    "        \n",
    "    torch.save(checkpoint, f'models/{file_name}.pth')"
   ]
  },
  {
   "cell_type": "code",
   "execution_count": 17,
   "metadata": {},
   "outputs": [],
   "source": [
    "save_agents(agents, score_hist, avg_scores=avg_scores)"
   ]
  }
 ],
 "metadata": {
  "kernelspec": {
   "display_name": "drlnd",
   "language": "python",
   "name": "drlnd"
  },
  "language_info": {
   "codemirror_mode": {
    "name": "ipython",
    "version": 3
   },
   "file_extension": ".py",
   "mimetype": "text/x-python",
   "name": "python",
   "nbconvert_exporter": "python",
   "pygments_lexer": "ipython3",
   "version": "3.6.9"
  }
 },
 "nbformat": 4,
 "nbformat_minor": 2
}
