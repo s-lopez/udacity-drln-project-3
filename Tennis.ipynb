{
 "cells": [
  {
   "cell_type": "markdown",
   "metadata": {},
   "source": [
    "# Collaboration and Competition\n",
    "\n",
    "---\n",
    "\n",
    "In this notebook, you will learn how to use the Unity ML-Agents environment for the third project of the [Deep Reinforcement Learning Nanodegree](https://www.udacity.com/course/deep-reinforcement-learning-nanodegree--nd893) program.\n",
    "\n",
    "### 1. Start the Environment\n",
    "\n",
    "We begin by importing the necessary packages.  If the code cell below returns an error, please revisit the project instructions to double-check that you have installed [Unity ML-Agents](https://github.com/Unity-Technologies/ml-agents/blob/master/docs/Installation.md) and [NumPy](http://www.numpy.org/)."
   ]
  },
  {
   "cell_type": "code",
   "execution_count": 1,
   "metadata": {},
   "outputs": [],
   "source": [
    "from unityagents import UnityEnvironment\n",
    "import numpy as np"
   ]
  },
  {
   "cell_type": "code",
   "execution_count": 2,
   "metadata": {},
   "outputs": [
    {
     "name": "stderr",
     "output_type": "stream",
     "text": [
      "INFO:unityagents:\n",
      "'Academy' started successfully!\n",
      "Unity Academy name: Academy\n",
      "        Number of Brains: 1\n",
      "        Number of External Brains : 1\n",
      "        Lesson number : 0\n",
      "        Reset Parameters :\n",
      "\t\t\n",
      "Unity brain name: TennisBrain\n",
      "        Number of Visual Observations (per agent): 0\n",
      "        Vector Observation space type: continuous\n",
      "        Vector Observation space size (per agent): 8\n",
      "        Number of stacked Vector Observation: 3\n",
      "        Vector Action space type: continuous\n",
      "        Vector Action space size (per agent): 2\n",
      "        Vector Action descriptions: , \n"
     ]
    }
   ],
   "source": [
    "PATH_TO_ENV = \"Tennis_Linux/Tennis.x86\"\n",
    "BRAIN = \"TennisBrain\"\n",
    "TRAINING = True\n",
    "\n",
    "env = UnityEnvironment(file_name=PATH_TO_ENV, no_graphics=TRAINING)\n",
    "\n",
    "#ACTION_SIZE = env.brains[BRAIN].vector_action_space_size\n",
    "#STATE_SIZE = env.brains[BRAIN].vector_observation_space_size ### ???"
   ]
  },
  {
   "cell_type": "code",
   "execution_count": 3,
   "metadata": {},
   "outputs": [
    {
     "data": {
      "text/plain": [
       "2"
      ]
     },
     "execution_count": 3,
     "metadata": {},
     "output_type": "execute_result"
    }
   ],
   "source": [
    "env.brains[BRAIN].vector_action_space_size"
   ]
  },
  {
   "cell_type": "markdown",
   "metadata": {},
   "source": [
    "Environments contain **_brains_** which are responsible for deciding the actions of their associated agents. Here we check for the first brain available, and set it as the default brain we will be controlling from Python."
   ]
  },
  {
   "cell_type": "markdown",
   "metadata": {},
   "source": [
    "### 2. Examine the State and Action Spaces\n",
    "\n",
    "In this environment, two agents control rackets to bounce a ball over a net. If an agent hits the ball over the net, it receives a reward of +0.1.  If an agent lets a ball hit the ground or hits the ball out of bounds, it receives a reward of -0.01.  Thus, the goal of each agent is to keep the ball in play.\n",
    "\n",
    "The observation space consists of 8 variables corresponding to the position and velocity of the ball and racket. Two continuous actions are available, corresponding to movement toward (or away from) the net, and jumping. \n",
    "\n",
    "Run the code cell below to print some information about the environment."
   ]
  },
  {
   "cell_type": "code",
   "execution_count": 4,
   "metadata": {},
   "outputs": [
    {
     "name": "stdout",
     "output_type": "stream",
     "text": [
      "Number of agents: 2\n",
      "Size of each action: 2\n",
      "There are 2 agents. Each observes a state with length: 24\n",
      "The state for the first agent looks like: [ 0.          0.          0.          0.          0.          0.\n",
      "  0.          0.          0.          0.          0.          0.\n",
      "  0.          0.          0.          0.         -6.65278625 -1.5\n",
      " -0.          0.          6.83172083  6.         -0.          0.        ]\n"
     ]
    }
   ],
   "source": [
    "# reset the environment\n",
    "env_info = env.reset(train_mode=TRAINING)[BRAIN]\n",
    "\n",
    "# number of agents \n",
    "NUM_AGENTS = len(env_info.agents)\n",
    "print('Number of agents:', NUM_AGENTS)\n",
    "\n",
    "# size of each action\n",
    "ACTION_SIZE = env.brains[BRAIN].vector_action_space_size\n",
    "print('Size of each action:', ACTION_SIZE)\n",
    "\n",
    "# examine the state space \n",
    "states = env_info.vector_observations\n",
    "STATE_SIZE = states.shape[1]\n",
    "print('There are {} agents. Each observes a state with length: {}'.format(states.shape[0], STATE_SIZE))\n",
    "print('The state for the first agent looks like:', states[0])"
   ]
  },
  {
   "cell_type": "markdown",
   "metadata": {},
   "source": [
    "### 3. Take Random Actions in the Environment\n",
    "\n",
    "In the next code cell, you will learn how to use the Python API to control the agents and receive feedback from the environment.\n",
    "\n",
    "Once this cell is executed, you will watch the agents' performance, if they select actions at random with each time step.  A window should pop up that allows you to observe the agents.\n",
    "\n",
    "Of course, as part of the project, you'll have to change the code so that the agents are able to use their experiences to gradually choose better actions when interacting with the environment!"
   ]
  },
  {
   "cell_type": "markdown",
   "metadata": {},
   "source": [
    "# Convenience functions"
   ]
  },
  {
   "cell_type": "code",
   "execution_count": 5,
   "metadata": {},
   "outputs": [],
   "source": [
    "def act(env, actions, brain_name=BRAIN) -> tuple:\n",
    "    \"\"\"Sends actions to the environment env and observes the results.\n",
    "    Returns a tuple of rewards, next_states, dones (One per agent)\"\"\"\n",
    "    action_result = env.step(actions)[brain_name] # Act on the environment and observe the result\n",
    "    return (action_result.rewards,\n",
    "            action_result.vector_observations, # next states\n",
    "            action_result.local_done) # True if the episode ended\n",
    "    \n",
    "def reset(env, training=TRAINING, brain_name=BRAIN) -> np.ndarray:\n",
    "    \"\"\"Syntactic sugar for resetting the unity environment\"\"\"\n",
    "    return env.reset(train_mode=training)[brain_name].vector_observations"
   ]
  },
  {
   "cell_type": "markdown",
   "metadata": {},
   "source": [
    "# Prepare the training"
   ]
  },
  {
   "cell_type": "code",
   "execution_count": 6,
   "metadata": {},
   "outputs": [],
   "source": [
    "#from IPython.display import clear_output\n",
    "np.set_printoptions(precision=3, suppress=True)"
   ]
  },
  {
   "cell_type": "code",
   "execution_count": 7,
   "metadata": {},
   "outputs": [],
   "source": [
    "# Profiling (optional)\n",
    "import cProfile\n",
    "profiling = False # Set to True to profile execution time\n",
    "if profiling:\n",
    "    profile = cProfile.Profile()"
   ]
  },
  {
   "cell_type": "code",
   "execution_count": 8,
   "metadata": {},
   "outputs": [
    {
     "data": {
      "text/plain": [
       "<torch._C.Generator at 0x7f6108143910>"
      ]
     },
     "execution_count": 8,
     "metadata": {},
     "output_type": "execute_result"
    }
   ],
   "source": [
    "# Invite our agent & import utils\n",
    "from ddpg_agent import Agent\n",
    "from buffer import ReplayBuffer\n",
    "import torch\n",
    "import random\n",
    "# Params\n",
    "SEED = random.randint(0, 1e6)\n",
    "BUFFER_SIZE = int(1e6)\n",
    "BATCH_SIZE = 400\n",
    "USE_CUDA = True\n",
    "\n",
    "# Initialize components\n",
    "random.seed(SEED)\n",
    "torch.manual_seed(SEED)"
   ]
  },
  {
   "cell_type": "code",
   "execution_count": 9,
   "metadata": {},
   "outputs": [],
   "source": [
    "def train(agents, env, num_episodes, log_freq, max_t=20000, profiling=False, profiler=None):        \n",
    "    score_hist = []\n",
    "    if profiling: \n",
    "        profile.enable()\n",
    "    \n",
    "    # Train\n",
    "    for i in range(num_episodes):\n",
    "        states = reset(env)\n",
    "        scores = np.zeros(NUM_AGENTS)\n",
    "        if i > 0:\n",
    "            for agent in agents:\n",
    "                agent.ounoise.decay_step()\n",
    "            \n",
    "        for j in range(max_t): # Safer than while not np.any(dones)           \n",
    "            \n",
    "            # Each agent decides its action based on its own observation\n",
    "            #assert len(noise) == len(states) & len(noise) == len(agents), 'size mismatch'\n",
    "            assert len(states) == len(agents), 'size mismatch'\n",
    "            actions = np.vstack([agent.decide(np.expand_dims(state, 0))\n",
    "                               for agent, state in zip(agents, states)])\n",
    "                \n",
    "            # Send the actions to the environment\n",
    "            rewards, next_states, dones = act(env, actions)     \n",
    "            scores += rewards\n",
    "            \n",
    "            # Save to buffer\n",
    "            buffer.add(states, actions, rewards, next_states, dones)\n",
    "            \n",
    "            # Note: The agents' critics learn from the global state, not only the individual observations\n",
    "            # Update only after collecting enough experiences\n",
    "            if len(buffer) >= BATCH_SIZE:\n",
    "                for agent_number, agent in enumerate(agents):\n",
    "                    # Sample experiences separately for each agent's critic\n",
    "                    experiences = buffer.sample(BATCH_SIZE, NUM_AGENTS) #(states, actions, rewards, next_states, dones)\n",
    "            \n",
    "                    # To update one agent, for each sampled experience we need...\n",
    "                    # ...All the actions that the (updated) target actors would take observing the resulting state\n",
    "                    assert len(experiences[3]) == len(agents), 'size mismatch' # experiences[3]: next_states\n",
    "                    next_actions = [a.decide(s, use_target=True, as_tensor=True, autograd=False, add_noise=False)\n",
    "                                    for a, s in zip(agents, experiences[3])]\n",
    "            \n",
    "                    # ...All the actions that the (updated) local actors would take observing the current state\n",
    "                    assert len(experiences[0]) == len(agents), 'size mismatch' # experiences[0]: states\n",
    "                    current_actions = [a.decide(s, use_target=False, as_tensor=True, autograd=True, add_noise=False)\n",
    "                                       for a, s in zip(agents, experiences[0])]\n",
    "                    \n",
    "                    # Finally apply the update\n",
    "                    agent.learn(experiences, next_actions, current_actions, agent_number)\n",
    "            \n",
    "            #if len(buffer) >= BATCH_SIZE:\n",
    "            #    # Sample experiences separately for each agent's critic\n",
    "            #    experiences = buffer.sample(BATCH_SIZE, NUM_AGENTS) #(states, actions, rewards, next_states, dones)\n",
    "            #\n",
    "            #    # To update one agent, for each sampled experience we need...\n",
    "            #    # ...All the actions that the (updated) target actors would take observing the resulting state\n",
    "            #    assert len(experiences[3]) == len(agents), 'size mismatch' # experiences[3]: next_states\n",
    "            #    next_actions = [a.decide(s, use_target=True, as_tensor=True, autograd=False, add_noise=False)\n",
    "            #                    for a, s in zip(agents, experiences[3])]\n",
    "            #\n",
    "            #    # ...All the actions that the (updated) local actors would take observing the current state\n",
    "            #    assert len(experiences[0]) == len(agents), 'size mismatch' # experiences[0]: states\n",
    "            #    current_actions = [a.decide(s, use_target=False, as_tensor=True, autograd=True, add_noise=False)\n",
    "            #                       for a, s in zip(agents, experiences[0])]\n",
    "            #    \n",
    "            #    for agent_number, agent in enumerate(agents):    \n",
    "            #        # Finally apply the update\n",
    "            #        agent.learn(experiences, next_actions, current_actions, agent_number)\n",
    "                \n",
    "            # Step\n",
    "            states = next_states # roll over states to next time step\n",
    "            if np.any(dones): # exit loop if episode finished\n",
    "                break \n",
    "                \n",
    "        # Logging\n",
    "        score_hist.append(max(scores))\n",
    "        if (i % log_freq == 0) and (i > 0):\n",
    "            print(f'Avg. score episodes {i-log_freq}-{i}: {np.mean(score_hist[-log_freq:])}')\n",
    "        \n",
    "        if np.mean(score_hist[-100:]) >= .5:\n",
    "            print(f'Solved in {i} steps!')\n",
    "            break\n",
    "\n",
    "    if profiling: \n",
    "        profile.disable()\n",
    "        \n",
    "    return np.array(score_hist)"
   ]
  },
  {
   "cell_type": "code",
   "execution_count": 10,
   "metadata": {},
   "outputs": [
    {
     "name": "stdout",
     "output_type": "stream",
     "text": [
      "Avg. score episodes 0-100: 0.0030000000447034836\n",
      "Avg. score episodes 100-200: 0.009000000134110451\n",
      "Avg. score episodes 200-300: 0.011000000163912773\n",
      "Avg. score episodes 300-400: 0.0\n",
      "Avg. score episodes 400-500: 0.0\n",
      "Avg. score episodes 500-600: 0.0\n",
      "Avg. score episodes 600-700: 0.014000000208616257\n",
      "Avg. score episodes 700-800: 0.022000000327825547\n",
      "Avg. score episodes 800-900: 0.02500000037252903\n",
      "Avg. score episodes 900-1000: 0.03400000050663948\n",
      "Avg. score episodes 1000-1100: 0.05200000077486038\n",
      "Avg. score episodes 1100-1200: 0.05800000086426735\n",
      "Avg. score episodes 1200-1300: 0.027000000402331352\n",
      "Avg. score episodes 1300-1400: 0.006000000089406967\n",
      "Avg. score episodes 1400-1500: 0.039000000581145285\n",
      "Avg. score episodes 1500-1600: 0.03800000056624413\n",
      "Avg. score episodes 1600-1700: 0.012000000178813934\n",
      "Avg. score episodes 1700-1800: 0.04100000061094761\n",
      "Avg. score episodes 1800-1900: 0.04800000071525574\n",
      "Avg. score episodes 1900-2000: 0.04090000061318278\n",
      "Avg. score episodes 2000-2100: 0.05790000088512898\n",
      "Avg. score episodes 2100-2200: 0.04890000073239207\n",
      "Avg. score episodes 2200-2300: 0.039000000581145285\n",
      "Avg. score episodes 2300-2400: 0.04400000065565109\n",
      "Avg. score episodes 2400-2500: 0.03500000052154064\n",
      "Avg. score episodes 2500-2600: 0.036000000536441805\n",
      "Avg. score episodes 2600-2700: 0.04200000062584877\n",
      "Avg. score episodes 2700-2800: 0.04500000067055225\n",
      "Avg. score episodes 2800-2900: 0.053000000789761546\n",
      "Avg. score episodes 2900-3000: 0.04400000065565109\n",
      "Avg. score episodes 3000-3100: 0.04100000061094761\n",
      "Avg. score episodes 3100-3200: 0.046000000685453415\n",
      "Avg. score episodes 3200-3300: 0.03700000055134296\n",
      "Avg. score episodes 3300-3400: 0.05250000080093741\n",
      "Avg. score episodes 3400-3500: 0.051000000759959224\n",
      "Avg. score episodes 3500-3600: 0.04640000071376562\n",
      "Avg. score episodes 3600-3700: 0.06480000097304582\n",
      "Avg. score episodes 3700-3800: 0.09310000145807862\n",
      "Avg. score episodes 3800-3900: 0.08910000137984753\n",
      "Avg. score episodes 3900-4000: 0.060800000913441184\n",
      "Avg. score episodes 4000-4100: 0.21330000320449471\n",
      "Avg. score episodes 4100-4200: 0.23600000351667405\n",
      "Avg. score episodes 4200-4300: 0.37760000564157964\n",
      "Solved in 4375 steps!\n",
      "CPU times: user 57min 37s, sys: 38.4 s, total: 58min 15s\n",
      "Wall time: 1h 37s\n"
     ]
    }
   ],
   "source": [
    "%%time\n",
    "buffer = ReplayBuffer(BUFFER_SIZE, USE_CUDA)\n",
    "agents = [Agent(STATE_SIZE, \n",
    "                ACTION_SIZE, \n",
    "                NUM_AGENTS, \n",
    "                noise_theta = 1,\n",
    "                noise_sigma = .35,\n",
    "                noise_decay_rate = .999,\n",
    "                cuda = USE_CUDA) for agent in ('Alice', 'Bob')]\n",
    "\n",
    "score_hist = train(agents, env, num_episodes=8000, log_freq=100)"
   ]
  },
  {
   "cell_type": "code",
   "execution_count": 11,
   "metadata": {},
   "outputs": [],
   "source": [
    "# Random search\n",
    "#from datetime import datetime\n",
    "#import random\n",
    "#results = []\n",
    "#while datetime.now().timestamp() < 1578897000:\n",
    "#    # Generate random params\n",
    "#    theta = round(np.clip(random.normalvariate(1, 1),0, 1), 2)\n",
    "#    sigma = round(np.clip(random.normalvariate(.15, .1),0 , 1), 2)\n",
    "#    decay_rate = round(np.clip(random.normalvariate(.95, .05),0 , 1), 2)\n",
    "#    BATCH_SIZE = int(np.clip(random.normalvariate(400, 100),150 , 700))\n",
    "#    # Init\n",
    "#    buffer = ReplayBuffer(BUFFER_SIZE, USE_CUDA)\n",
    "#    ounoise = OUNoise(NUM_AGENTS, mu=.0, theta=theta, sigma=sigma, decay_rate=decay_rate)\n",
    "#    agents = [Agent(STATE_SIZE, ACTION_SIZE, NUM_AGENTS, USE_CUDA) for agent in ('Alice', 'Bob')]\n",
    "#    # Train\n",
    "#    score_hist = train(agents, env, num_episodes=3000, log_freq=9999)\n",
    "#    # Scores\n",
    "#    avg_scores = moving_average(score_hist, 100)\n",
    "#    max_score = round(np.nanmax(avg_scores), 2)\n",
    "#    last_score = round(avg_scores[-1], 2)\n",
    "#    # Log\n",
    "#    results.append((theta, sigma, decay_rate, BATCH_SIZE, last_score, max_score))\n",
    "#    print(f'{theta} {sigma} {decay_rate} {BATCH_SIZE} score: {last_score}/{max_score}')\n",
    "#    if max_score >= .5:\n",
    "#        print('eureka!!')\n",
    "#        break"
   ]
  },
  {
   "cell_type": "code",
   "execution_count": 12,
   "metadata": {},
   "outputs": [],
   "source": [
    "env.close()"
   ]
  },
  {
   "cell_type": "markdown",
   "metadata": {},
   "source": [
    "# Plotting + visualizing"
   ]
  },
  {
   "cell_type": "code",
   "execution_count": 13,
   "metadata": {},
   "outputs": [],
   "source": [
    "from matplotlib import pyplot as plt\n",
    "#import seaborn as sns"
   ]
  },
  {
   "cell_type": "code",
   "execution_count": 14,
   "metadata": {},
   "outputs": [],
   "source": [
    "def moving_average(signal:np.ndarray , period: int):\n",
    "    buffer = [np.nan] * period\n",
    "    for i in range(period,len(signal)):\n",
    "        buffer.append(signal[i-period:i].mean())\n",
    "    return np.array(buffer)\n",
    "\n",
    "#def moving_std(signal:np.ndarray , period: int):\n",
    "#    buffer = [np.nan] * period\n",
    "#    for i in range(period,len(signal)):\n",
    "#        buffer.append(signal[i-period:i].std())\n",
    "#    return np.array(buffer)"
   ]
  },
  {
   "cell_type": "code",
   "execution_count": 23,
   "metadata": {},
   "outputs": [
    {
     "data": {
      "text/plain": [
       "(0, 4375)"
      ]
     },
     "execution_count": 23,
     "metadata": {},
     "output_type": "execute_result"
    },
    {
     "data": {
      "image/png": "[encoded data removed]",
      "text/plain": [
       "<Figure size 576x360 with 1 Axes>"
      ]
     },
     "metadata": {
      "needs_background": "light"
     },
     "output_type": "display_data"
    }
   ],
   "source": [
    "length = 100\n",
    "avg_scores = moving_average(score_hist, length)\n",
    "plt.figure(figsize=(8,5))\n",
    "plt.plot(avg_scores, label='avg_scores')\n",
    "plt.hlines(.5, xmin=0, xmax=4375, colors='r', label='solved')\n",
    "plt.grid()\n",
    "plt.xlabel('Episode')\n",
    "plt.ylabel('Avg. score')\n",
    "plt.title(f'Avg. score over {length} episodes')\n",
    "plt.legend(loc='upper left')\n",
    "plt.xlim((0, 4375))"
   ]
  },
  {
   "cell_type": "markdown",
   "metadata": {},
   "source": [
    "# Save models"
   ]
  },
  {
   "cell_type": "code",
   "execution_count": 16,
   "metadata": {},
   "outputs": [],
   "source": [
    "from datetime import datetime\n",
    "def save_agents(agents, score_hist, file_name=None, avg_scores=None):\n",
    "    \"\"\"Saves the agents' scores and the underlying pytorch model\"\"\"\n",
    "    checkpoint = {'score_hist': score_hist}\n",
    "    \n",
    "    for name, agent in zip(('Alice', 'Bob'), agents):\n",
    "        checkpoint[f'{name}_actor_state_dict'] = agent.actor_local.state_dict()\n",
    "        checkpoint[f'{name}_critic_state_dict'] = agent.critic_local.state_dict()\n",
    "        \n",
    "    if not file_name:\n",
    "        # Standard name: date-episodes-score\n",
    "        file_name = f'{datetime.strftime(datetime.now(),\"%y-%m-%d_%H.%M\")}-{len(avg_scores)}-{round(avg_scores[-1],1)}'\n",
    "        \n",
    "    torch.save(checkpoint, f'models/{file_name}.pth')"
   ]
  },
  {
   "cell_type": "code",
   "execution_count": 17,
   "metadata": {},
   "outputs": [],
   "source": [
    "save_agents(agents, score_hist, avg_scores=avg_scores)"
   ]
  },
  {
   "cell_type": "code",
   "execution_count": 18,
   "metadata": {},
   "outputs": [],
   "source": [
    "#### Old viz\n",
    "#for i in range(1, 20):                                      # play game for 5 episodes\n",
    "#    env_info = env.reset(train_mode=False)[BRAIN]     # reset the environment    \n",
    "#    states = env_info.vector_observations                  # get the current state (for each agent)\n",
    "#    scores = np.zeros(num_agents)                          # initialize the score (for each agent)\n",
    "#    while True:\n",
    "#        actions = np.random.randn(num_agents, action_size) # select an action (for each agent)\n",
    "#        actions = np.clip(actions, -1, 1)                  # all actions between -1 and 1\n",
    "#        env_info = env.step(actions)[BRAIN]           # send all actions to tne environment\n",
    "#        next_states = env_info.vector_observations         # get next state (for each agent)\n",
    "#        rewards = env_info.rewards                         # get reward (for each agent)\n",
    "#        dones = env_info.local_done                        # see if episode finished\n",
    "#        scores += env_info.rewards                         # update the score (for each agent)\n",
    "#        states = next_states                               # roll over states to next time step\n",
    "#        if np.any(dones):                                  # exit loop if episode finished\n",
    "#            break\n",
    "#    print('Score (max over agents) from episode {}: {}'.format(i, np.max(scores)))"
   ]
  },
  {
   "cell_type": "code",
   "execution_count": null,
   "metadata": {},
   "outputs": [],
   "source": []
  }
 ],
 "metadata": {
  "kernelspec": {
   "display_name": "drlnd",
   "language": "python",
   "name": "drlnd"
  },
  "language_info": {
   "codemirror_mode": {
    "name": "ipython",
    "version": 3
   },
   "file_extension": ".py",
   "mimetype": "text/x-python",
   "name": "python",
   "nbconvert_exporter": "python",
   "pygments_lexer": "ipython3",
   "version": "3.6.9"
  }
 },
 "nbformat": 4,
 "nbformat_minor": 2
}
